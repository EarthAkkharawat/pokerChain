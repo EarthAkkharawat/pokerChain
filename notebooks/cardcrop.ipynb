{
 "cells": [
  {
   "cell_type": "code",
   "execution_count": null,
   "metadata": {},
   "outputs": [],
   "source": [
    "import cv2"
   ]
  },
  {
   "cell_type": "code",
   "execution_count": null,
   "metadata": {},
   "outputs": [],
   "source": [
    "deck = cv2.imread('')\n",
    "print(deck.shape)\n",
    "h = deck.shape[0] / 4\n",
    "w = deck.shape[1] / 13\n",
    "print('card dim',h, w)\n",
    "mapper = {'0':2,'1':3,'2':1,'3':0}\n"
   ]
  },
  {
   "cell_type": "code",
   "execution_count": null,
   "metadata": {},
   "outputs": [],
   "source": [
    "for i in range(4):\n",
    "    for j in range(13):\n",
    "        card = deck[int(i*h):int((i+1)*h), int(j*w):int((j+1)*w)]\n",
    "        cv2.imwrite(f'notebooks/cards/{str(((j+12)%13)*4+mapper[str(i)])}.png', card)"
   ]
  }
 ],
 "metadata": {
  "kernelspec": {
   "display_name": "Python 3",
   "language": "python",
   "name": "python3"
  },
  "language_info": {
   "codemirror_mode": {
    "name": "ipython",
    "version": 3
   },
   "file_extension": ".py",
   "mimetype": "text/x-python",
   "name": "python",
   "nbconvert_exporter": "python",
   "pygments_lexer": "ipython3",
   "version": "3.11.6"
  }
 },
 "nbformat": 4,
 "nbformat_minor": 2
}
