{
 "cells": [
  {
   "cell_type": "code",
   "execution_count": 3,
   "metadata": {},
   "outputs": [],
   "source": [
    "# !pip install treys\n",
    "from treys import Deck, Evaluator, Card\n",
    "from IPython.display import display"
   ]
  },
  {
   "cell_type": "code",
   "execution_count": 6,
   "metadata": {},
   "outputs": [],
   "source": [
    "def print_hand(hand):\n",
    "    display([Card.int_to_pretty_str(card) for card in hand])\n",
    "\n",
    "def treys_card_to_int(card):\n",
    "    rank = Card.get_rank_int(card)\n",
    "    suit = str(Card.get_suit_int(card))\n",
    "    mapper = {'1':3,'4':1,'8':0,'2':2}\n",
    "    return rank * 4 + mapper[suit]"
   ]
  },
  {
   "cell_type": "code",
   "execution_count": 7,
   "metadata": {},
   "outputs": [],
   "source": [
    "def generate_hand():\n",
    "    deck = Deck()\n",
    "    evaluator = Evaluator()\n",
    "    hand = deck.draw(7)\n",
    "    print_hand(hand)\n",
    "    score = evaluator.evaluate([], hand)\n",
    "    hand_rank = evaluator.class_to_string(evaluator.get_rank_class(score))\n",
    "    print('winning hand: ', hand_rank, '\\n')\n",
    "    int_cards = sorted([treys_card_to_int(card) for card in hand],reverse=True)\n",
    "    print(int_cards)\n"
   ]
  },
  {
   "cell_type": "code",
   "execution_count": 8,
   "metadata": {},
   "outputs": [
    {
     "data": {
      "text/plain": [
       "['[7\\x1b[34m♦\\x1b[0m]',\n",
       " '[K\\x1b[34m♦\\x1b[0m]',\n",
       " '[8\\x1b[34m♦\\x1b[0m]',\n",
       " '[A\\x1b[31m♥\\x1b[0m]',\n",
       " '[9\\x1b[31m♥\\x1b[0m]',\n",
       " '[K\\x1b[31m♥\\x1b[0m]',\n",
       " '[9\\x1b[34m♦\\x1b[0m]']"
      ]
     },
     "metadata": {},
     "output_type": "display_data"
    },
    {
     "name": "stdout",
     "output_type": "stream",
     "text": [
      "winning hand:  Two Pair \n",
      "\n",
      "[50, 46, 45, 30, 29, 25, 21]\n"
     ]
    }
   ],
   "source": [
    "generate_hand()"
   ]
  }
 ],
 "metadata": {
  "kernelspec": {
   "display_name": "Python 3",
   "language": "python",
   "name": "python3"
  },
  "language_info": {
   "codemirror_mode": {
    "name": "ipython",
    "version": 3
   },
   "file_extension": ".py",
   "mimetype": "text/x-python",
   "name": "python",
   "nbconvert_exporter": "python",
   "pygments_lexer": "ipython3",
   "version": "3.10.10"
  }
 },
 "nbformat": 4,
 "nbformat_minor": 2
}
