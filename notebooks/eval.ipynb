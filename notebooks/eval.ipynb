{
 "cells": [
  {
   "cell_type": "code",
   "execution_count": 5,
   "metadata": {},
   "outputs": [],
   "source": [
    "# !pip install treys\n",
    "from treys import Deck, Evaluator, Card\n",
    "from IPython.display import display"
   ]
  },
  {
   "cell_type": "code",
   "execution_count": 25,
   "metadata": {},
   "outputs": [],
   "source": [
    "def print_hand(hand):\n",
    "    display([Card.int_to_pretty_str(card) for card in hand])\n",
    "\n",
    "def treys_card_to_int(card):\n",
    "    rank = Card.get_rank_int(card)\n",
    "    suit = str(Card.get_suit_int(card))\n",
    "    mapper = {'1':3,'4':1,'8':0,'2':2}\n",
    "    return rank * 4 + mapper[suit]"
   ]
  },
  {
   "cell_type": "code",
   "execution_count": 37,
   "metadata": {},
   "outputs": [],
   "source": [
    "def generate_hand():\n",
    "    deck = Deck()\n",
    "    evaluator = Evaluator()\n",
    "    hand = deck.draw(7)\n",
    "    print_hand(hand)\n",
    "    score = evaluator.evaluate([], hand)\n",
    "    hand_rank = evaluator.class_to_string(evaluator.get_rank_class(score))\n",
    "    print('winning hand: ', hand_rank, '\\n')\n",
    "    int_cards = sorted([treys_card_to_int(card) for card in hand],reverse=True)\n",
    "    print(int_cards)\n"
   ]
  },
  {
   "cell_type": "code",
   "execution_count": 38,
   "metadata": {},
   "outputs": [
    {
     "data": {
      "text/plain": [
       "['[3♦]', '[A♥]', '[8♣]', '[A♦]', '[6♣]', '[T♣]', '[5♥]']"
      ]
     },
     "metadata": {},
     "output_type": "display_data"
    },
    {
     "name": "stdout",
     "output_type": "stream",
     "text": [
      "winning hand:  Pair \n",
      "\n",
      "[50, 49, 32, 24, 16, 14, 5]\n"
     ]
    }
   ],
   "source": [
    "generate_hand()"
   ]
  }
 ],
 "metadata": {
  "kernelspec": {
   "display_name": "Python 3",
   "language": "python",
   "name": "python3"
  },
  "language_info": {
   "codemirror_mode": {
    "name": "ipython",
    "version": 3
   },
   "file_extension": ".py",
   "mimetype": "text/x-python",
   "name": "python",
   "nbconvert_exporter": "python",
   "pygments_lexer": "ipython3",
   "version": "3.11.6"
  }
 },
 "nbformat": 4,
 "nbformat_minor": 2
}
